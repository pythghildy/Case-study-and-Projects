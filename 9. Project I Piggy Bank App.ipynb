{
 "cells": [
  {
   "cell_type": "markdown",
   "metadata": {},
   "source": [
    "## Piggy Bank Software"
   ]
  },
  {
   "cell_type": "markdown",
   "metadata": {},
   "source": [
    "#### We should create a piggy bank application for school children to teach them importance of savings. they should have option to\n",
    "\n",
    "Add Money\n",
    "    \n",
    "Withdraw Money\n",
    "    \n",
    "check the current amount in the piggy bank"
   ]
  },
  {
   "cell_type": "code",
   "execution_count": 3,
   "metadata": {},
   "outputs": [
    {
     "name": "stdout",
     "output_type": "stream",
     "text": [
      "Select your option Start or End : Start\n",
      "\n",
      "Hello!!!Welcome to Deposit & Withdrawl Machine\n",
      "\n",
      "\n",
      "----------------------------------------Start----------------------------------------\n",
      "\n",
      "Add, Withdraw or check: Add\n",
      "\n",
      "Enter amount to be Deposited: 1000\n",
      "\n",
      "After adding, your updated banlance is 1000.0 rupees\n",
      "\n",
      "Add, Withdraw or check: Withdraw\n",
      "\n",
      "Enter amount to be Withdrawed: 300\n",
      "\n",
      "You Withdrawed: 300.0\n",
      "\n",
      "After withdrawing, your updated banlance is 700.0 rupees\n",
      "\n",
      "Add, Withdraw or check: Check\n",
      "\n",
      "Net Available Balance= 700.0\n",
      "\n",
      "Select your option Start or End : end\n",
      "\n",
      "\n",
      "\u001b[94m\u001b[1mThank you for using the Piggy bank\n"
     ]
    }
   ],
   "source": [
    "#import libraries\n",
    "import piggy_bank as pb\n",
    "\n",
    "#Check the option to start or end\n",
    "strt_end = input('Select your option Start or End : ')\n",
    "s = pb.Bankaccount()\n",
    "\n",
    "#if user wants to start the program\n",
    "if strt_end.lower()== 'start':\n",
    "    print('\\n')\n",
    "    print('--'*20+'Start'+'--'*20)\n",
    "\n",
    "    # Calling functions with that class object \n",
    "    s.deposit() \n",
    "    s.withdraw() \n",
    "    s.display()\n",
    "    strt_end = input('\\nSelect your option Start or End : ')\n",
    "if strt_end.lower() != 'start':\n",
    "    print('\\n')\n",
    "    print('\\033[94m'+ '\\033[1m' + 'Thank you for using the Piggy bank')"
   ]
  }
 ],
 "metadata": {
  "kernelspec": {
   "display_name": "Python 3",
   "language": "python",
   "name": "python3"
  },
  "language_info": {
   "codemirror_mode": {
    "name": "ipython",
    "version": 3
   },
   "file_extension": ".py",
   "mimetype": "text/x-python",
   "name": "python",
   "nbconvert_exporter": "python",
   "pygments_lexer": "ipython3",
   "version": "3.7.1"
  }
 },
 "nbformat": 4,
 "nbformat_minor": 2
}
